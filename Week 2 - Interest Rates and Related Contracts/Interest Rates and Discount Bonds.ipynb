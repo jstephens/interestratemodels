{
 "cells": [
  {
   "cell_type": "code",
   "execution_count": 77,
   "metadata": {},
   "outputs": [],
   "source": [
    "import math\n",
    "import numpy as np"
   ]
  },
  {
   "cell_type": "markdown",
   "metadata": {},
   "source": [
    "# Interest Rates and Discount Bonds"
   ]
  },
  {
   "cell_type": "markdown",
   "metadata": {},
   "source": [
    "## Lecture\n",
    "***"
   ]
  },
  {
   "cell_type": "markdown",
   "metadata": {},
   "source": [
    "* Interest refers to the rent paid by a borrower of money to a lender of money over a period of time\n",
    "* A zero coupon bond is the securitized form of a loan\n"
   ]
  },
  {
   "cell_type": "markdown",
   "metadata": {},
   "source": [
    "Compounded Interest Rates"
   ]
  },
  {
   "cell_type": "markdown",
   "metadata": {},
   "source": [
    "## Practice Quiz\n",
    "***"
   ]
  },
  {
   "cell_type": "markdown",
   "metadata": {},
   "source": [
    "### Question 1\n",
    "\n",
    "Suppose the short rate is constant over time and equals r = 2%. If you invest in the money market account, how many years does it take to double your investment?"
   ]
  },
  {
   "cell_type": "markdown",
   "metadata": {},
   "source": [
    "Answer:\n",
    "\n",
    "$e^{rT} = 2 \\leftrightarrow T =  \\frac{log(2)}{r}$\n",
    "\n",
    "Rearrange the initial equation to solve for T. The 2 here implies that we start with an investment of 1 (so if the problem asked about the time to triple an investment, we'd instead use 3)."
   ]
  },
  {
   "cell_type": "code",
   "execution_count": 10,
   "metadata": {},
   "outputs": [
    {
     "data": {
      "text/plain": [
       "8.664339756999317"
      ]
     },
     "execution_count": 10,
     "metadata": {},
     "output_type": "execute_result"
    }
   ],
   "source": [
    "r = 0\n",
    "\n",
    "answer1 = math.log(2)/r\n",
    "\n",
    "answer1"
   ]
  },
  {
   "cell_type": "markdown",
   "metadata": {},
   "source": [
    "### Question 2\n",
    "\n",
    "If the 5-year simple rate is 10%, what is the corresponding 5-year yield? Express your answer in percentage points and round to two decimal places."
   ]
  },
  {
   "cell_type": "markdown",
   "metadata": {},
   "source": [
    "Answer:\n",
    "    \n",
    "$1+5L(0,5)=e^{5y(0,5)} \\leftrightarrow y(0,5) = \\frac{log(1+5x0.1)}{5}$"
   ]
  },
  {
   "cell_type": "code",
   "execution_count": 15,
   "metadata": {},
   "outputs": [
    {
     "data": {
      "text/plain": [
       "0.08109302162163287"
      ]
     },
     "execution_count": 15,
     "metadata": {},
     "output_type": "execute_result"
    }
   ],
   "source": [
    "# number of years\n",
    "simple_rate = 0\n",
    "years = 0\n",
    "\n",
    "answer2 = math.log(1+years*simple_rate)/years\n",
    "\n",
    "answer2"
   ]
  },
  {
   "cell_type": "markdown",
   "metadata": {},
   "source": [
    "### Question 3\n",
    "\n",
    "What would happen to the prices of bonds if one takes into account default risk?"
   ]
  },
  {
   "cell_type": "markdown",
   "metadata": {},
   "source": [
    "Answer:\n",
    "\n",
    "'Default risk' refers to the possibility that issuers don't repay the loan. This lessens the desirability of bonds for potential buyers."
   ]
  },
  {
   "cell_type": "markdown",
   "metadata": {},
   "source": [
    "### Question 4\n",
    "\n",
    "Suppose you want to take out a 10-year loan and you shop around at different banks to get the best deal. Bank A quotes an interest rate of 9% while Bank B quotes an interest rate of 7%. Obviously you are tempted to take the offer of Bank B, however in the small print of the contracts you read that Bank A uses simple rates and Bank B uses continuously compounded rates. Is Bank B truly the best deal?"
   ]
  },
  {
   "cell_type": "markdown",
   "metadata": {},
   "source": [
    "Answer:\n",
    "    \n",
    "Convert one rate to the other (in this example, convert Bank A's rates to continuously compounding) in order to accurately compare the two. \n",
    "\n",
    "$1 + L \\cdot T = e^{y \\cdot T}$"
   ]
  },
  {
   "cell_type": "code",
   "execution_count": 80,
   "metadata": {},
   "outputs": [
    {
     "data": {
      "text/plain": [
       "0.06418538861723946"
      ]
     },
     "execution_count": 80,
     "metadata": {},
     "output_type": "execute_result"
    }
   ],
   "source": [
    "years = 0\n",
    "R = 0.09\n",
    "\n",
    "answer4 = np.log(1+R*years)/years\n",
    "\n",
    "answer4"
   ]
  },
  {
   "cell_type": "markdown",
   "metadata": {},
   "source": [
    "### Question 5\n",
    "\n",
    "Is the money market account always increasing over time if the short rate is a positive process?"
   ]
  },
  {
   "cell_type": "markdown",
   "metadata": {},
   "source": [
    "### Question 8\n",
    "\n",
    "Let C denote a cash flow at some future date T. In which of the \n",
    "following cases is the time-t value given by $P(t,T) \\cdot C $?"
   ]
  },
  {
   "cell_type": "code",
   "execution_count": null,
   "metadata": {},
   "outputs": [],
   "source": [
    "Answer:\n",
    "\n"
   ]
  }
 ],
 "metadata": {
  "kernelspec": {
   "display_name": "Python 3",
   "language": "python",
   "name": "python3"
  },
  "language_info": {
   "codemirror_mode": {
    "name": "ipython",
    "version": 3
   },
   "file_extension": ".py",
   "mimetype": "text/x-python",
   "name": "python",
   "nbconvert_exporter": "python",
   "pygments_lexer": "ipython3",
   "version": "3.7.6"
  }
 },
 "nbformat": 4,
 "nbformat_minor": 4
}
